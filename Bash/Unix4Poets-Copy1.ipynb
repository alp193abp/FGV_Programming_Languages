{
 "cells": [
  {
   "cell_type": "markdown",
   "metadata": {},
   "source": [
    "## Exercícios - [\"Unix for Poets\"](https://www.cs.upc.edu/~padro/Unixforpoets.pdf)"
   ]
  },
  {
   "cell_type": "markdown",
   "metadata": {},
   "source": [
    "Vamos demonstrar o uso dos seguintes programas do Unix / Linux:  \n",
    "+ cat\n",
    "+ tr  \n",
    "+ wc  \n",
    "+ sort  \n",
    "+ uniq  \n",
    "+ head  \n",
    "+ tail  \n",
    "+ sed  \n",
    "+ rev  \n",
    "+ paste  \n",
    "+ grep / egrep   \n",
    "\n",
    "\n",
    "    "
   ]
  },
  {
   "cell_type": "code",
   "execution_count": 4,
   "metadata": {},
   "outputs": [
    {
     "name": "stdout",
     "output_type": "stream",
     "text": [
      "/home/rsouza/Documentos/FGV_Programming_Languages/Bash\n"
     ]
    }
   ],
   "source": [
    "!pwd"
   ]
  },
  {
   "cell_type": "markdown",
   "metadata": {},
   "source": [
    "#### 1) Contando palavras em um texto "
   ]
  },
  {
   "cell_type": "markdown",
   "metadata": {},
   "source": [
    "#### 2) Ordenando uma lista de palavras de várias maneiras\n",
    "+ ordem ascii\n",
    "+ ordem alfabética\n",
    "+ ordem de \"rima\""
   ]
  },
  {
   "cell_type": "code",
   "execution_count": 1,
   "metadata": {},
   "outputs": [
    {
     "name": "stdout",
     "output_type": "stream",
     "text": [
      "a\r\n",
      "A\r\n",
      "abated\r\n",
      "Abel\r\n",
      "Abelmizraim\r\n",
      "Abidah\r\n",
      "abide\r\n",
      "Abide\r\n",
      "Abimael\r\n",
      "Abimelech\r\n",
      "uniq: write error: Broken pipe\r\n"
     ]
    }
   ],
   "source": [
    "! tr -sc '[A-Z][a-z]' '[\\012*]' < ./Dados/genesis.txt | sort | uniq | head"
   ]
  },
  {
   "cell_type": "code",
   "execution_count": 2,
   "metadata": {},
   "outputs": [
    {
     "name": "stdout",
     "output_type": "stream",
     "text": [
      "    339 a\r\n",
      "      2 A\r\n",
      "      3 abated\r\n",
      "      8 Abel\r\n",
      "      1 Abelmizraim\r\n",
      "      1 Abidah\r\n",
      "      4 abide\r\n",
      "      1 Abide\r\n",
      "      1 Abimael\r\n",
      "     24 Abimelech\r\n",
      "uniq: write error: Broken pipe\r\n"
     ]
    }
   ],
   "source": [
    "! tr -sc '[A-Z][a-z]' '[\\012*]' < ./Dados/genesis.txt | sort | uniq -c | head"
   ]
  },
  {
   "cell_type": "code",
   "execution_count": 7,
   "metadata": {},
   "outputs": [
    {
     "name": "stdout",
     "output_type": "stream",
     "text": [
      "   2428 and\r\n",
      "   2408 the\r\n",
      "   1360 of\r\n",
      "   1250 And\r\n",
      "    651 his\r\n",
      "    646 he\r\n",
      "    611 to\r\n",
      "    590 unto\r\n",
      "    588 in\r\n",
      "    509 that\r\n",
      "sort: write failed: 'standard output': Broken pipe\r\n",
      "sort: write error\r\n"
     ]
    }
   ],
   "source": [
    "! cat ./Dados/genesis.txt | tr -sc '[A-Z][a-z]' '[\\012*]' | sort | uniq -c | sort -nr | sed 10q"
   ]
  },
  {
   "cell_type": "code",
   "execution_count": 13,
   "metadata": {},
   "outputs": [
    {
     "name": "stdout",
     "output_type": "stream",
     "text": [
      "A\r\n",
      "ABATED\r\n",
      "ABEL\r\n",
      "ABELMIZRAIM\r\n",
      "ABIDAH\r\n",
      "ABIDE\r\n",
      "ABIMAEL\r\n",
      "ABIMELECH\r\n",
      "ABLE\r\n",
      "ABODE\r\n",
      "uniq: write error: Broken pipe\r\n"
     ]
    }
   ],
   "source": [
    "! cat ./Dados/genesis.txt | tr '[a-z]' '[A-Z]' | tr -sc '[A-Z]' '[\\012*]' | sort | uniq | sed 10q"
   ]
  },
  {
   "cell_type": "code",
   "execution_count": 17,
   "metadata": {},
   "outputs": [
    {
     "name": "stdout",
     "output_type": "stream",
     "text": [
      "   3678 AND\r\n",
      "   2459 THE\r\n",
      "   1366 OF\r\n",
      "    653 HIS\r\n",
      "    652 HE\r\n",
      "    612 TO\r\n",
      "    600 IN\r\n",
      "    598 UNTO\r\n",
      "    520 THAT\r\n",
      "    484 I\r\n",
      "sort: write failed: 'standard output': Broken pipe\r\n",
      "sort: write error\r\n"
     ]
    }
   ],
   "source": [
    "! cat ./Dados/genesis.txt | tr '[a-z]' '[A-Z]' | tr -sc '[A-Z]' '[\\012*]' | sort | uniq -c | sort -gr | sed 10q"
   ]
  },
  {
   "cell_type": "code",
   "execution_count": 21,
   "metadata": {},
   "outputs": [
    {
     "name": "stdout",
     "output_type": "stream",
     "text": [
      "The First Book of Moses:  Called Genesis \r\n",
      "\r\n",
      "1:1 In the beginning GOD created the heaven and the earth. \r\n",
      "1:2 And the earth was without form, and void; and darkness was upon the face of the deep. And the Spirit of GOD moved upon the face of the waters. \r\n",
      "1:3 And GOD said, Let there be light: and there was light. \r\n",
      "sed: couldn't write 419 items to stdout: Broken pipe\r\n",
      "cat: write error: Broken pipe\r\n"
     ]
    }
   ],
   "source": [
    "! cat ./Dados/genesis.txt | sed 's/God/GOD/g' | sed 5q"
   ]
  },
  {
   "cell_type": "code",
   "execution_count": 23,
   "metadata": {},
   "outputs": [
    {
     "name": "stdout",
     "output_type": "stream",
     "text": [
      "      1 Shed\r\n",
      "      3 washed\r\n",
      "      3 leanfleshed\r\n",
      "      2 fatfleshed\r\n",
      "      2 established\r\n",
      "      1 famished\r\n",
      "      1 finished\r\n",
      "      1 nourished\r\n",
      "      1 breathed\r\n",
      "      1 clothed\r\n",
      "     33 died\r\n",
      "      1 magnified\r\n",
      "      1 verified\r\n",
      "      1 sanctified\r\n",
      "      1 multiplied\r\n",
      "      1 denied\r\n",
      "      1 espied\r\n",
      "      1 wearied\r\n",
      "      7 cried\r\n",
      "      3 dried\r\n",
      "      4 carried\r\n"
     ]
    }
   ],
   "source": [
    "! cat ./Dados/genesis.txt | tr -sc '[A-Z][a-z]' '[\\012*]' | rev | sort | rev | uniq -c | sed -n '110,130p'"
   ]
  },
  {
   "cell_type": "markdown",
   "metadata": {},
   "source": [
    "#### 3) Encontrando n-gramas"
   ]
  },
  {
   "cell_type": "code",
   "execution_count": 33,
   "metadata": {},
   "outputs": [],
   "source": [
    "! cat ./Dados/genesis.txt | tr -sc '[A-Z][a-z]' '[\\012*]' > ./Dados/genesis.words\n",
    "! tail -n+2 ./Dados/genesis.words > ./Dados/genesis.nextwords\n",
    "! paste ./Dados/genesis.words ./Dados/genesis.nextwords | sort | uniq -c > ./Dados/genesis.bigrams"
   ]
  },
  {
   "cell_type": "code",
   "execution_count": 34,
   "metadata": {},
   "outputs": [
    {
     "name": "stdout",
     "output_type": "stream",
     "text": [
      "The\tFirst\r\n",
      "First\tBook\r\n",
      "Book\tof\r\n",
      "of\tMoses\r\n",
      "Moses\tCalled\r\n",
      "paste: write error: Broken pipe\r\n",
      "paste: write error\r\n"
     ]
    }
   ],
   "source": [
    "! paste ./Dados/genesis.words ./Dados/genesis.nextwords | sed 5q"
   ]
  },
  {
   "cell_type": "code",
   "execution_count": 35,
   "metadata": {},
   "outputs": [
    {
     "name": "stdout",
     "output_type": "stream",
     "text": [
      "      1 abated\tAnd\r\n",
      "      2 abated\tfrom\r\n",
      "      1 Abel\tand\r\n",
      "      1 Abel\tAnd\r\n",
      "      1 Abel\the\r\n",
      "      2 Abel\this\r\n",
      "      1 Abelmizraim\twhich\r\n",
      "      1 Abel\tthy\r\n",
      "      1 Abel\twas\r\n",
      "      1 Abel\twhom\r\n",
      "cat: write error: Broken pipe\r\n"
     ]
    }
   ],
   "source": [
    "! cat ./Dados/genesis.bigrams | head "
   ]
  },
  {
   "cell_type": "code",
   "execution_count": 36,
   "metadata": {},
   "outputs": [],
   "source": [
    "! paste ./Dados/genesis.words ./Dados/genesis.nextwords | sort | uniq -c | sort -gr > ./Dados/genesis.bigrams.freq"
   ]
  },
  {
   "cell_type": "code",
   "execution_count": 37,
   "metadata": {},
   "outputs": [
    {
     "name": "stdout",
     "output_type": "stream",
     "text": [
      "    372 of\tthe\r\n",
      "    287 in\tthe\r\n",
      "    192 And\the\r\n",
      "    185 And\tthe\r\n",
      "    178 said\tunto\r\n",
      "    174 and\tthe\r\n",
      "    158 the\tLORD\r\n",
      "    157 the\tland\r\n",
      "    146 and\the\r\n",
      "    115 he\tsaid\r\n",
      "cat: write error: Broken pipe\r\n"
     ]
    }
   ],
   "source": [
    "! cat ./Dados/genesis.bigrams.freq | head "
   ]
  },
  {
   "cell_type": "code",
   "execution_count": 38,
   "metadata": {},
   "outputs": [],
   "source": [
    "! cat ./Dados/genesis.txt | tr -sc '[A-Z][a-z]' '[\\012*]' > genesis.words\n",
    "! tail -n+2 ./Dados/genesis.words > ./Dados/genesis.nextwords\n",
    "! tail -n+3 ./Dados/genesis.words > ./Dados/genesis.nextwords2\n",
    "! paste ./Dados/genesis.words ./Dados/genesis.nextwords ./Dados/genesis.nextwords2 | sort | uniq -c > ./Dados/genesis.trigrams"
   ]
  },
  {
   "cell_type": "code",
   "execution_count": 39,
   "metadata": {},
   "outputs": [
    {
     "name": "stdout",
     "output_type": "stream",
     "text": [
      "      1 abated\tAnd\tthe\r\n",
      "      2 abated\tfrom\toff\r\n",
      "      1 Abel\tAnd\tAbel\r\n",
      "      1 Abel\tand\tto\r\n",
      "      1 Abel\the\talso\r\n",
      "      2 Abel\this\tbrother\r\n",
      "      1 Abelmizraim\twhich\tis\r\n",
      "      1 Abel\tthy\tbrother\r\n",
      "      1 Abel\twas\ta\r\n",
      "      1 Abel\twhom\tCain\r\n",
      "cat: write error: Broken pipe\r\n"
     ]
    }
   ],
   "source": [
    "! cat ./Dados/genesis.trigrams | head "
   ]
  },
  {
   "cell_type": "code",
   "execution_count": 40,
   "metadata": {},
   "outputs": [],
   "source": [
    "!paste ./Dados/genesis.words ./Dados/genesis.nextwords ./Dados/genesis.nextwords2 | sort | uniq -c | sort -gr > ./Dados/genesis.trigrams.freq "
   ]
  },
  {
   "cell_type": "code",
   "execution_count": 41,
   "metadata": {},
   "outputs": [
    {
     "name": "stdout",
     "output_type": "stream",
     "text": [
      "    101 the\tland\tof\r\n",
      "     84 And\the\tsaid\r\n",
      "     69 the\tsons\tof\r\n",
      "     68 in\tthe\tland\r\n",
      "     63 it\tcame\tto\r\n",
      "     63 came\tto\tpass\r\n",
      "     60 And\tit\tcame\r\n",
      "     43 said\tunto\thim\r\n",
      "     41 the\tname\tof\r\n",
      "     37 And\tthe\tLORD\r\n",
      "cat: write error: Broken pipe\r\n"
     ]
    }
   ],
   "source": [
    "! cat ./Dados/genesis.trigrams.freq | head "
   ]
  },
  {
   "cell_type": "markdown",
   "metadata": {},
   "source": [
    "#### 4) Buscando por padrões com [grep and egrep](https://www.digitalocean.com/community/tutorials/using-grep-regular-expressions-to-search-for-text-patterns-in-linux)"
   ]
  },
  {
   "cell_type": "raw",
   "metadata": {},
   "source": [
    "Example               Explanation\n",
    "___________________________________________\n",
    "grep gh          find lines containing \"gh\"\n",
    "grep 'ˆcon'      find lines beginning with \"con\"\n",
    "grep 'ing$'      find lines ending with \"ing\"\n",
    "grep –v gh       delete lines containing \"gh\"\n",
    "grep –v 'ˆcon'   delete lines beginning with \"con\"\n",
    "grep –v 'ing$'   delete lines ending with \"ing\""
   ]
  },
  {
   "cell_type": "code",
   "execution_count": 94,
   "metadata": {},
   "outputs": [
    {
     "name": "stdout",
     "output_type": "stream",
     "text": [
      "4:16 And Cain went out from the presence of the LORD, and dwelt in the land of Nod, on the east of Eden. \r\n",
      "10:10 And the beginning of his kingdom was Babel, and Erech, and Accad, and Calneh, in the land of Shinar. \r\n",
      "11:2 And it came to pass, as they journeyed from the east, that they found a plain in the land of Shinar; and they dwelt there. \r\n",
      "11:28 And Haran died before his father Terah in the land of his nativity, in Ur of the Chaldees. \r\n",
      "11:31 And Terah took Abram his son, and Lot the son of Haran his son's son, and Sarai his daughter in law, his son Abram's wife; and they went forth with them from Ur of the Chaldees, to go into the land of Canaan; and they came unto Haran, and dwelt there. \r\n",
      "12:5 And Abram took Sarai his wife, and Lot his brother's son, and all their substance that they had gathered, and the souls that they had gotten in Haran; and they went forth to go into the land of Canaan; and into the land of Canaan they came. \r\n",
      "13:10 And Lot lifted up his eyes, and beheld all the plain of Jordan, that it was well watered every where, before the LORD destroyed Sodom and Gomorrah, even as the garden of the LORD, like the land of Egypt, as thou comest unto Zoar. \r\n",
      "13:12 Abram dwelled in the land of Canaan, and Lot dwelled in the cities of the plain, and pitched his tent toward Sodom. \r\n",
      "16:3 And Sarai Abram's wife took Hagar her maid the Egyptian, after Abram had dwelt ten years in the land of Canaan, and gave her to her husband Abram to be his wife. \r\n",
      "17:8 And I will give unto thee, and to thy seed after thee, the land wherein thou art a stranger, all the land of Canaan, for an everlasting possession; and I will be their God. \r\n",
      "grep: write error: Broken pipe\r\n"
     ]
    }
   ],
   "source": [
    "cat ./Dados/genesis.txt | grep 'the land of' | sed 10q"
   ]
  },
  {
   "cell_type": "code",
   "execution_count": 247,
   "metadata": {},
   "outputs": [
    {
     "name": "stdout",
     "output_type": "stream",
     "text": [
      "    187    7435   37666\r\n"
     ]
    }
   ],
   "source": [
    "! cat ./Dados/genesis.txt | grep 'God' | wc"
   ]
  },
  {
   "cell_type": "code",
   "execution_count": 47,
   "metadata": {},
   "outputs": [
    {
     "name": "stdout",
     "output_type": "stream",
     "text": [
      "233\r\n"
     ]
    }
   ],
   "source": [
    "! cat ./Dados/genesis.txt | grep -o 'God' | wc -l"
   ]
  },
  {
   "cell_type": "code",
   "execution_count": 232,
   "metadata": {},
   "outputs": [
    {
     "name": "stdout",
     "output_type": "stream",
     "text": [
      "238\r\n"
     ]
    }
   ],
   "source": [
    "! cat ./Dados/genesis.txt | grep -io 'God' | wc -l"
   ]
  },
  {
   "cell_type": "code",
   "execution_count": 57,
   "metadata": {},
   "outputs": [
    {
     "name": "stdout",
     "output_type": "stream",
     "text": [
      "238\n"
     ]
    }
   ],
   "source": [
    "! cat ./Dados/genesis.txt | tr '[A-Z]' '[a-z]' | tr -sc '[a-z]' '[\\012*]' | grep 'god' | wc -l"
   ]
  },
  {
   "cell_type": "markdown",
   "metadata": {},
   "source": [
    "#### Retirando os números e encontrando a palavra God"
   ]
  },
  {
   "cell_type": "code",
   "execution_count": 54,
   "metadata": {},
   "outputs": [
    {
     "name": "stdout",
     "output_type": "stream",
     "text": [
      "cat: ./Dados/genises.txt: No such file or directory\r\n"
     ]
    }
   ],
   "source": [
    "!cat ./Dados/genises.txt | head"
   ]
  },
  {
   "cell_type": "code",
   "execution_count": 49,
   "metadata": {},
   "outputs": [
    {
     "name": "stdout",
     "output_type": "stream",
     "text": [
      " In the beginning God created the heaven and the earth. \r\n",
      " And the earth was without form, and void; and darkness was upon the face of the deep. And the Spirit of God moved upon the face of the waters. \r\n",
      " And God said, Let there be light and there was light. \r\n",
      " And God saw the light, that it was good and God divided the light from the darkness. \r\n",
      " And God called the light Day, and the darkness he called Night. And the evening and the morning were the first day. \r\n",
      " And God said, Let there be a firmament in the midst of the waters, and let it divide the waters from the waters. \r\n",
      " And God made the firmament, and divided the waters which were under the firmament from the waters which were above the firmament and it was so. \r\n",
      " And God called the firmament Heaven. And the evening and the morning were the second day. \r\n",
      " And God said, Let the waters under the heaven be gathered together unto one place, and let the dry land appear and it was so. \r\n",
      " And God called the dry land Earth; and the gathering together of the waters called he Seas and God saw that it was good. \r\n",
      "grep: write error: Broken pipe\r\n",
      "tr: write error: Broken pipe\r\n",
      "tr: write error\r\n",
      "cat: write error: Broken pipe\r\n"
     ]
    }
   ],
   "source": [
    "! cat ./Dados/genesis.txt | tr -d '[0-9:]' | grep 'God' | sed 10q"
   ]
  },
  {
   "cell_type": "code",
   "execution_count": 65,
   "metadata": {},
   "outputs": [
    {
     "name": "stdout",
     "output_type": "stream",
     "text": [
      " In the beginning God created the heaven and the earth. \r\n",
      " And the earth was without form, and void; and darkness was upon the face of the deep. And the Spirit of God moved upon the face of the waters. \r\n",
      " And God said, Let there be light and there was light. \r\n",
      " And God saw the light, that it was good and God divided the light from the darkness. \r\n",
      " And God called the light Day, and the darkness he called Night. And the evening and the morning were the first day. \r\n",
      " And God said, Let there be a firmament in the midst of the waters, and let it divide the waters from the waters. \r\n",
      " And God made the firmament, and divided the waters which were under the firmament from the waters which were above the firmament and it was so. \r\n",
      " And God called the firmament Heaven. And the evening and the morning were the second day. \r\n",
      " And God said, Let the waters under the heaven be gathered together unto one place, and let the dry land appear and it was so. \r\n",
      " And God called the dry land Earth; and the gathering together of the waters called he Seas and God saw that it was good. \r\n",
      "grep: write error: Broken pipe\r\n",
      "sed: couldn't write 123 items to stdout: Broken pipe\r\n",
      "cat: write error: Broken pipe\r\n"
     ]
    }
   ],
   "source": [
    "! cat ./Dados/genesis.txt | sed 's/[0-9]*:[0-9]*//g' | grep 'God' | sed 10q"
   ]
  },
  {
   "cell_type": "code",
   "execution_count": 67,
   "metadata": {},
   "outputs": [
    {
     "name": "stdout",
     "output_type": "stream",
     "text": [
      " God shall enlarge Japheth, and he shall dwell in the tents of Shem; and Canaan shall be his servant. \r\n"
     ]
    }
   ],
   "source": [
    "! cat ./Dados/genesis.txt | sed 's/[0-9]*:[0-9]*//g' | grep '^ God'"
   ]
  },
  {
   "cell_type": "markdown",
   "metadata": {},
   "source": [
    "#### Linhas que não começam por \"And\""
   ]
  },
  {
   "cell_type": "code",
   "execution_count": 71,
   "metadata": {},
   "outputs": [
    {
     "name": "stdout",
     "output_type": "stream",
     "text": [
      "The First Book of Moses  Called Genesis \r\n",
      "\r\n",
      " In the beginning God created the heaven and the earth. \r\n",
      " So God created man in his own image, in the image of God created he him; male and female created he them. \r\n",
      " Thus the heavens and the earth were finished, and all the host of them. \r\n",
      " These are the generations of the heavens and of the earth when they were created, in the day that the LORD God made the earth and the heavens,  And every plant of the field before it was in the earth, and every herb of the field before it grew for the LORD God had not caused it to rain upon the earth, and there was not a man to till the ground. \r\n",
      " But there went up a mist from the earth, and watered the whole face of the ground. \r\n",
      " The name of the first is Pison that is it which compasseth the whole land of Havilah, where there is gold;  And the gold of that land is good there is bdellium and the onyx stone. \r\n",
      " Therefore shall a man leave his father and his mother, and shall cleave unto his wife and they shall be one flesh. \r\n",
      " Now the serpent was more subtil than any beast of the field which the LORD God had made. And he said unto the woman, Yea, hath God said, Ye shall not eat of every tree of the garden?   And the woman said unto the serpent, We may eat of the fruit of the trees of the garden  But of the fruit of the tree which is in the midst of the garden, God hath said, Ye shall not eat of it, neither shall ye touch it, lest ye die. \r\n",
      "grep: write error: Broken pipe\r\n",
      "sed: couldn't write 123 items to stdout: Broken pipe\r\n",
      "cat: write error: Broken pipe\r\n"
     ]
    }
   ],
   "source": [
    "! cat ./Dados/genesis.txt | sed 's/[0-9]*:[0-9]*//g' | grep -v '^ And' | sed 10q"
   ]
  },
  {
   "cell_type": "raw",
   "metadata": {},
   "source": [
    "Grep allows ranges of characters (somewhat) like tr.\n",
    "Example              Explanation\n",
    "___________________________________________________\n",
    "grep '[A–Z]'         lines with an uppercase char\n",
    "grep 'ˆ[A–Z]'        lines starting with an uppercase char\n",
    "grep '[A–Z]$'        lines ending with an uppercase char\n",
    "grep 'ˆ[A–Z]*$'      lines with all uppercase chars\n",
    "grep '[aeiouAEIOU]'  lines with a vowel\n",
    "grep '^[aeiouAEIOU]' lines starting with a vowel\n",
    "grep '[aeiouAEIOU]$' lines ending with a vowel"
   ]
  },
  {
   "cell_type": "markdown",
   "metadata": {},
   "source": [
    "#### Exercícios com grep / egrep\n",
    "\n",
    "1) Quantas palavras maiúsculas distintas há no Genesis?  \n",
    "2) Quantas palavras de 4 letras?  \n",
    "3) Há palavras sem vogais?  \n",
    "4) Há palavras com apenas uma sílaba (somente uma vogal)?  \n",
    "5) Encontre as palavras com exatemente duas sílabas (duas vogais não adjacentes)  \n",
    "6) Algumas palavras contêm duas vogais que soam como uma apenas. Retire da lista de palavras com duas vogais aquelas que contem um \"e\" mudo.  \n",
    "7) Retire da lista de palavras com duas vogais os ditongos (vogais adjacentes)  \n",
    "8) Encontre versículos do Genesis com a palavra \"light.\"  "
   ]
  },
  {
   "cell_type": "code",
   "execution_count": 207,
   "metadata": {},
   "outputs": [
    {
     "name": "stdout",
     "output_type": "stream",
     "text": [
      "4\r\n"
     ]
    }
   ],
   "source": [
    "#Questão 1\n",
    "! cat ./Dados/genesis.txt | grep -io '[A–Z]' | sort | uniq | wc -l"
   ]
  },
  {
   "cell_type": "code",
   "execution_count": 208,
   "metadata": {},
   "outputs": [
    {
     "name": "stdout",
     "output_type": "stream",
     "text": [
      "401\r\n"
     ]
    }
   ],
   "source": [
    "#Questão 2\n",
    "! cat ./Dados/genesis.txt | tr '[A-Z]' '[a-z]' | tr -sc '[a-z]' '[\\012*]' | egrep '[A-Za-z][A-Za-z][A-Za-z][A-Za-z]' | egrep -v '[A-Za-z][A-Za-z][A-Za-z][A-Za-z][A-Za-z]' | sort | uniq -c | wc -l"
   ]
  },
  {
   "cell_type": "code",
   "execution_count": 209,
   "metadata": {},
   "outputs": [
    {
     "name": "stdout",
     "output_type": "stream",
     "text": [
      "     84 by\r\n",
      "      4 cry\r\n",
      "      4 dry\r\n",
      "      1 fly\r\n",
      "    343 my\r\n",
      "      2 myrrh\r\n",
      "    256 s\r\n",
      "    278 thy\r\n",
      "      8 why\r\n"
     ]
    }
   ],
   "source": [
    "#Questão 3\n",
    "! cat ./Dados/genesis.txt | tr '[A-Z]' '[a-z]' | tr -sc '[a-z]' '[\\012*]' | egrep -v '[aeiou]' | sort | uniq -c #| wc -l"
   ]
  },
  {
   "cell_type": "code",
   "execution_count": 210,
   "metadata": {},
   "outputs": [
    {
     "name": "stdout",
     "output_type": "stream",
     "text": [
      "465\r\n"
     ]
    }
   ],
   "source": [
    "#Questão 4\n",
    "! cat ./Dados/genesis.txt | tr '[A-Z]' '[a-z]' | tr -sc '[a-z]' '[\\012*]' | grep -w '[bcdfghjklmnpqrstvwxyz]*[aeiou][bcdfghjklmnpqrstvwxyz]*' | sort | uniq -c | wc -l"
   ]
  },
  {
   "cell_type": "code",
   "execution_count": 211,
   "metadata": {},
   "outputs": [
    {
     "name": "stdout",
     "output_type": "stream",
     "text": [
      "877\r\n"
     ]
    }
   ],
   "source": [
    "#Questão 5\n",
    "! cat ./Dados/genesis.txt | tr '[A-Z]' '[a-z]' | tr -sc '[a-z]' '[\\012*]' | grep -w '[bcdfghjklmnpqrstvwxyz]*[aeiou][bcdfghjklmnpqrstvwxyz]*[aeiou][bcdfghjklmnpqrstvwxyz]*' | grep -v '[bcdfghjklmnpqrstvwxyz]*[aeiou][aeiou][bcdfghjklmnpqrstvwxyz]*'| sort | uniq -c | wc -l"
   ]
  },
  {
   "cell_type": "code",
   "execution_count": 212,
   "metadata": {},
   "outputs": [
    {
     "name": "stdout",
     "output_type": "stream",
     "text": [
      "150\r\n"
     ]
    }
   ],
   "source": [
    "#Questão 6 - g\n",
    "! cat ./Dados/genesis.txt | tr '[A-Z]' '[a-z]' | tr -sc '[a-z]' '[\\012*]' | grep -w '[bcdfghjklmnpqrstvwxyz]*[aeiou][aeiou][bcdfghjklmnpqrstvwxyz]*' |grep -v '[bcdfghjklmnpqrstvwxyz]*[aiou][aiou][bcdfghjklmnpqrstvwxyz]*'| sort | uniq -c | wc -l"
   ]
  },
  {
   "cell_type": "code",
   "execution_count": 214,
   "metadata": {},
   "outputs": [
    {
     "name": "stdout",
     "output_type": "stream",
     "text": [
      "9\r\n"
     ]
    }
   ],
   "source": [
    "#Questão 6 - t\n",
    "! cat ./Dados/genesis.txt | tr '[A-Z]' '[a-z]' | tr -sc '[a-z]' '[\\012*]' | grep -w '[bcdfghjklmnpqrstvwxyz]*[aeiou][e]' | sort | uniq -c | wc -l"
   ]
  },
  {
   "cell_type": "code",
   "execution_count": 215,
   "metadata": {},
   "outputs": [
    {
     "name": "stdout",
     "output_type": "stream",
     "text": [
      "279\r\n"
     ]
    }
   ],
   "source": [
    "#Questão 7\n",
    "! cat ./Dados/genesis.txt | tr '[A-Z]' '[a-z]' | tr -sc '[a-z]' '[\\012*]' | grep -w '[bcdfghjklmnpqrstvwxyz]*[aeiou][aeiou][bcdfghjklmnpqrstvwxyz]*' | sort | uniq -c | wc -l"
   ]
  },
  {
   "cell_type": "code",
   "execution_count": 277,
   "metadata": {},
   "outputs": [
    {
     "name": "stdout",
     "output_type": "stream",
     "text": [
      "1:3 And God said, Let there be light: and there was light. \r\n",
      "1:4 And God saw the light, that it was good: and God divided the light from the darkness. \r\n",
      "1:5 And God called the light Day, and the darkness he called Night. And the evening and the morning were the first day. \r\n",
      "1:14 And God said, Let there be lights in the firmament of the heaven to divide the day from the night; and let them be for signs, and for seasons, and for days, and years: 1:15 And let them be for lights in the firmament of the heaven to give light upon the earth: and it was so. \r\n",
      "1:16 And God made two great lights; the greater light to rule the day, and the lesser light to rule the night: he made the stars also. \r\n",
      "1:17 And God set them in the firmament of the heaven to give light upon the earth, 1:18 And to rule over the day and over the night, and to divide the light from the darkness: and God saw that it was good. \r\n",
      "44:3 As soon as the morning was light, the men were sent away, they and their asses. \r\n"
     ]
    }
   ],
   "source": [
    "#Questão 8\n",
    "! cat ./Dados/genesis.txt | grep -w 'light'"
   ]
  },
  {
   "cell_type": "code",
   "execution_count": null,
   "metadata": {},
   "outputs": [],
   "source": []
  }
 ],
 "metadata": {
  "kernelspec": {
   "display_name": "Python 3",
   "language": "python",
   "name": "python3"
  },
  "language_info": {
   "codemirror_mode": {
    "name": "ipython",
    "version": 3
   },
   "file_extension": ".py",
   "mimetype": "text/x-python",
   "name": "python",
   "nbconvert_exporter": "python",
   "pygments_lexer": "ipython3",
   "version": "3.5.2"
  }
 },
 "nbformat": 4,
 "nbformat_minor": 2
}
