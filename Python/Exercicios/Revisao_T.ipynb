{
 "cells": [
  {
   "cell_type": "markdown",
   "metadata": {},
   "source": [
    "Exercícios de Revisão A2\n",
    "--\n",
    "Professor: Renato Rocha Souza  \n",
    "--"
   ]
  },
  {
   "cell_type": "code",
   "execution_count": null,
   "metadata": {},
   "outputs": [],
   "source": [
    "import itertools\n",
    "import random\n",
    "from collections import Counter\n",
    "import re\n",
    "import string\n",
    "\n",
    "import pymysql\n",
    "import sqlite3\n",
    "import getpass\n",
    "\n",
    "import numpy as np\n",
    "import matplotlib.pyplot as plt\n",
    "import pandas as pd\n",
    "import pandas.io.sql as psql\n",
    "\n",
    "%matplotlib inline"
   ]
  },
  {
   "cell_type": "markdown",
   "metadata": {},
   "source": [
    "### Parte I - Pandas"
   ]
  },
  {
   "cell_type": "markdown",
   "metadata": {},
   "source": [
    "Para o Dataframe abaixo, resolva as seguintes tarefas:"
   ]
  },
  {
   "cell_type": "code",
   "execution_count": null,
   "metadata": {},
   "outputs": [],
   "source": [
    "df_zoo = pd.read_csv('../Dados/zoo.csv')\n",
    "df_zoo.head()"
   ]
  },
  {
   "cell_type": "code",
   "execution_count": null,
   "metadata": {},
   "outputs": [],
   "source": [
    "df_zoo.loc[:2,['animal','hair']]"
   ]
  },
  {
   "cell_type": "code",
   "execution_count": null,
   "metadata": {},
   "outputs": [],
   "source": [
    "df_zoo.iloc[0:2,0:2]"
   ]
  },
  {
   "cell_type": "markdown",
   "metadata": {},
   "source": [
    "1 - Crie uma série somente com os nomes dos animais (primeira coluna)"
   ]
  },
  {
   "cell_type": "code",
   "execution_count": null,
   "metadata": {},
   "outputs": [],
   "source": [
    "type(df_zoo.animal)"
   ]
  },
  {
   "cell_type": "markdown",
   "metadata": {},
   "source": [
    "2 - Transforme os campos booleanos True/False em strings \"True\"/\"False\"  \n",
    "Veja as dicas [aqui](https://pandas.pydata.org/pandas-docs/stable/generated/pandas.DataFrame.apply.html) e [aqui](https://pandas.pydata.org/pandas-docs/stable/generated/pandas.DataFrame.applymap.html)  \n",
    "\n",
    "Obs: O Pandas já inferiu que as variáveis originais são de tipo booleano, mas como você faria se não o fossem; se fossem strings, por exemplo?  "
   ]
  },
  {
   "cell_type": "code",
   "execution_count": null,
   "metadata": {},
   "outputs": [],
   "source": [
    "df_zoo.info()"
   ]
  },
  {
   "cell_type": "code",
   "execution_count": null,
   "metadata": {},
   "outputs": [],
   "source": [
    "type(df_zoo.hair[0])"
   ]
  },
  {
   "cell_type": "code",
   "execution_count": null,
   "metadata": {},
   "outputs": [],
   "source": [
    "df_zoo.hair = df_zoo.hair.apply(lambda x:str(x))\n",
    "df_zoo.info()"
   ]
  },
  {
   "cell_type": "code",
   "execution_count": null,
   "metadata": {},
   "outputs": [],
   "source": [
    "df_zoo.feathers = df_zoo.feathers.map({True:'Verdadeiro', False:'Falso'})\n",
    "df_zoo.info()"
   ]
  },
  {
   "cell_type": "code",
   "execution_count": null,
   "metadata": {},
   "outputs": [],
   "source": [
    "df_zoo.loc[:, df_zoo.dtypes == bool].columns"
   ]
  },
  {
   "cell_type": "code",
   "execution_count": null,
   "metadata": {},
   "outputs": [],
   "source": [
    "booleanas = df_zoo.loc[:, df_zoo.dtypes == bool].columns\n",
    "df_zoo[booleanas].head()"
   ]
  },
  {
   "cell_type": "code",
   "execution_count": null,
   "metadata": {},
   "outputs": [],
   "source": [
    "df_zoo[booleanas] = df_zoo[booleanas].applymap(lambda x:int(x))\n",
    "df_zoo.info()"
   ]
  },
  {
   "cell_type": "markdown",
   "metadata": {},
   "source": [
    "3 - Crie um novo dataframe somente com os Mamíferos"
   ]
  },
  {
   "cell_type": "code",
   "execution_count": null,
   "metadata": {},
   "outputs": [],
   "source": [
    "df_zoo[df_zoo.type == 'mammal']"
   ]
  },
  {
   "cell_type": "markdown",
   "metadata": {},
   "source": [
    "4 - Crie um gráfico com os números de patas por animais  \n",
    "Veja as dicas [aqui](https://pandas.pydata.org/pandas-docs/version/0.22/generated/pandas.DataFrame.plot.html)  "
   ]
  },
  {
   "cell_type": "code",
   "execution_count": null,
   "metadata": {},
   "outputs": [],
   "source": [
    "df_zoo.legs.plot()"
   ]
  },
  {
   "cell_type": "code",
   "execution_count": null,
   "metadata": {},
   "outputs": [],
   "source": [
    "df_zoo.legs.plot(kind='hist')"
   ]
  },
  {
   "cell_type": "code",
   "execution_count": null,
   "metadata": {},
   "outputs": [],
   "source": [
    "df_zoo[df_zoo.legs == 5]"
   ]
  },
  {
   "cell_type": "markdown",
   "metadata": {},
   "source": [
    "5 - crie uma tabela no banco alunos a partir do dataframe  \n",
    "ver referência [aqui](https://pandas.pydata.org/pandas-docs/stable/generated/pandas.DataFrame.to_sql.html)"
   ]
  },
  {
   "cell_type": "raw",
   "metadata": {},
   "source": [
    "#como seria com um banco MySQL\n",
    "\n",
    "p = getpass.getpass()\n",
    "conn = pymysql.connect(host='127.0.0.1', #localhost\n",
    "                       port=3306, \n",
    "                       user='aluno', \n",
    "                       passwd=p, \n",
    "                       db='alunos')"
   ]
  },
  {
   "cell_type": "code",
   "execution_count": null,
   "metadata": {},
   "outputs": [],
   "source": [
    "conn = sqlite3.connect('tabela_zoo')"
   ]
  },
  {
   "cell_type": "code",
   "execution_count": null,
   "metadata": {},
   "outputs": [],
   "source": [
    "df_zoo.to_sql('tabela_zoo', con=conn)"
   ]
  },
  {
   "cell_type": "code",
   "execution_count": null,
   "metadata": {},
   "outputs": [],
   "source": [
    "cur = conn.cursor()"
   ]
  },
  {
   "cell_type": "code",
   "execution_count": null,
   "metadata": {},
   "outputs": [],
   "source": [
    "cur.execute(\"SELECT * FROM sqlite_master;\")\n",
    "for r in cur.fetchall():\n",
    "    print(r)"
   ]
  },
  {
   "cell_type": "code",
   "execution_count": null,
   "metadata": {},
   "outputs": [],
   "source": [
    "cur.execute(\"SELECT name FROM sqlite_master WHERE type='table';\")\n",
    "print(cur.fetchall())"
   ]
  },
  {
   "cell_type": "code",
   "execution_count": null,
   "metadata": {},
   "outputs": [],
   "source": [
    "cur.execute(\"SELECT * FROM tabela_zoo;\")\n",
    "for r in cur.fetchmany(12):\n",
    "    print(r)"
   ]
  },
  {
   "cell_type": "code",
   "execution_count": null,
   "metadata": {},
   "outputs": [],
   "source": [
    "new_df = pd.read_sql_query(\"SELECT * FROM tabela_zoo;\", conn)\n",
    "new_df.head()"
   ]
  },
  {
   "cell_type": "markdown",
   "metadata": {},
   "source": [
    "### Parte 2 - Shell Linux"
   ]
  },
  {
   "cell_type": "markdown",
   "metadata": {},
   "source": [
    "Usando comandos do Shell, abra o arquivo ../Dados/DomCasmurroMachadoAssis.txt e resolva as seguintes tarefas:"
   ]
  },
  {
   "cell_type": "markdown",
   "metadata": {},
   "source": [
    "1 - [Ordene as palavras do texto nas formas abaixo](https://jupyterhub.namd.mat.br/user/rsouza/notebooks/FGV_Programming_Languages/Bash/Unix4Poets.ipynb):\n",
    "+ ordem ascii\n",
    "+ ordem alfabética\n",
    "+ ordem de \"rima\""
   ]
  },
  {
   "cell_type": "code",
   "execution_count": null,
   "metadata": {
    "scrolled": false
   },
   "outputs": [],
   "source": [
    "! export LC_ALL=C\n",
    "! cat ../Dados/DomCasmurroMachadoAssis.txt | tr -sc '[A-Z][a-z]' '[\\012*]' < ../Dados/DomCasmurroMachadoAssis.txt | sort | uniq -c"
   ]
  },
  {
   "cell_type": "code",
   "execution_count": null,
   "metadata": {
    "scrolled": false
   },
   "outputs": [],
   "source": [
    "! cat ../Dados/DomCasmurroMachadoAssis.txt | tr -sc '[A-Z][a-z]' '[\\012*]' < ../Dados/DomCasmurroMachadoAssis.txt | sort | uniq -c"
   ]
  },
  {
   "cell_type": "code",
   "execution_count": null,
   "metadata": {},
   "outputs": [],
   "source": [
    "! cat ../Dados/DomCasmurroMachadoAssis.txt | tr -sc '[A-Z][a-z]' '[\\012*]' | rev | sort | rev | uniq -c | sed -n '110,130p'"
   ]
  },
  {
   "cell_type": "markdown",
   "metadata": {},
   "source": [
    "2 - Quantas palavras maiúsculas distintas há no texto?"
   ]
  },
  {
   "cell_type": "code",
   "execution_count": null,
   "metadata": {},
   "outputs": [],
   "source": [
    "!cat ../Dados/DomCasmurroMachadoAssis.txt | tr -sc '[A-Z][a-z]' '[\\012*]' | egrep '*[A-Z]' | sort | uniq -c | wc -l"
   ]
  },
  {
   "cell_type": "markdown",
   "metadata": {},
   "source": [
    "3 - Quantas palavras há com apenas uma; com apenas duas; e com apenas 3 vogais?"
   ]
  },
  {
   "cell_type": "code",
   "execution_count": null,
   "metadata": {},
   "outputs": [],
   "source": [
    "!cat ../Dados/DomCasmurroMachadoAssis.txt | tr -sc '[A-Z][a-z]' '[\\012*]' | egrep '\\<[^AEIOUaeiou]*[AEIOUaeiou][^AEIOUaeiou]*\\>' | sort | uniq -c | wc -l"
   ]
  },
  {
   "cell_type": "code",
   "execution_count": null,
   "metadata": {},
   "outputs": [],
   "source": [
    "!cat ../Dados/DomCasmurroMachadoAssis.txt | tr -sc '[A-Z][a-z]' '[\\012*]' | egrep '\\<[^AEIOUaeiou]*[AEIOUaeiou][^AEIOUaeiou]*[AEIOUaeiou][^AEIOUaeiou]*\\>' | sort | uniq | wc -l"
   ]
  },
  {
   "cell_type": "code",
   "execution_count": null,
   "metadata": {},
   "outputs": [],
   "source": [
    "!cat ../Dados/DomCasmurroMachadoAssis.txt | tr -sc '[A-Z][a-z]' '[\\012*]' | egrep '\\<[^AEIOUaeiou]*[AEIOUaeiou][^AEIOUaeiou]*[AEIOUaeiou][^AEIOUaeiou]*[AEIOUaeiou][^AEIOUaeiou]*\\>' | sort | uniq | wc -l"
   ]
  },
  {
   "cell_type": "markdown",
   "metadata": {},
   "source": [
    "4 - Qual a sequência de comandos para criar um arquivo com os bigramas e suas contagens?"
   ]
  },
  {
   "cell_type": "code",
   "execution_count": null,
   "metadata": {},
   "outputs": [],
   "source": [
    "! cat ../Dados/DomCasmurroMachadoAssis.txt | tr -sc '[A-Z][a-z]' '[\\012*]' > ../Dados/domcasmurro.words\n",
    "! tail -n+2 ../Dados/domcasmurro.words > ../Dados/domcasmurro.nextwords\n",
    "! paste ../Dados/domcasmurro.words ../Dados/domcasmurro.nextwords | sort | uniq -c > ../Dados/domcasmurro.bigrams\n",
    "! cat ../Dados/domcasmurro.bigrams | head "
   ]
  },
  {
   "cell_type": "markdown",
   "metadata": {},
   "source": [
    "### Parte 3 - Expressões Regulares"
   ]
  },
  {
   "cell_type": "markdown",
   "metadata": {},
   "source": [
    "1 - Repita os exercícios 1 a 4 da parte 2 utilizando [Python](https://docs.python.org/3/library/re.html)"
   ]
  },
  {
   "cell_type": "code",
   "execution_count": null,
   "metadata": {},
   "outputs": [],
   "source": [
    "with open('../Dados/DomCasmurroMachadoAssis.txt', 'r') as f:\n",
    "    texto = f.read()\n",
    "print(texto[0:500])"
   ]
  },
  {
   "cell_type": "code",
   "execution_count": null,
   "metadata": {},
   "outputs": [],
   "source": [
    "palavras = texto.split()\n",
    "palavras = [p.strip(string.punctuation) for p in palavras]\n",
    "palavras[0:10]"
   ]
  },
  {
   "cell_type": "code",
   "execution_count": null,
   "metadata": {},
   "outputs": [],
   "source": [
    "#Exercicio 1\n",
    "palavrasunicas=list(set(palavras))\n",
    "#ascii\n",
    "def ascii_sorting(l):\n",
    "    convert = lambda text: int(text) if text.isdigit() else text \n",
    "    ascii_key = lambda key: [ convert(c) for c in re.split('([0-9]+)', key) ] \n",
    "    return sorted(l, key=ascii_key )\n",
    "asc=ascii_sorting(palavrasunicas)\n",
    "#alfabetica\n",
    "alfabetica=palavrasunicas\n",
    "alfabetica.sort()\n",
    "#rima\n",
    "palavrasviradas=[]\n",
    "for i in range(len(palavrasunicas)):\n",
    "    palavrasvirada=list(palavras[i])\n",
    "    palavrasvirada.reverse()\n",
    "    palavrasviradas.append(''.join(palavrasvirada))\n",
    "palavrasviradas.sort()\n",
    "rima=[]\n",
    "for i in range(len(palavrasviradas)):\n",
    "    palrima=list(palavrasviradas[i])\n",
    "    palrima.reverse()\n",
    "    rima.append(''.join(palrima))\n",
    "#-----\n",
    "#print(asc)\n",
    "#print(alfabetica)\n",
    "#print(rima)"
   ]
  },
  {
   "cell_type": "code",
   "execution_count": null,
   "metadata": {},
   "outputs": [],
   "source": [
    "#Exercicio 2\n",
    "maiusculas = re.findall(r'\\s[$A-Z]{1}[a-z]*', texto)\n",
    "maiusculas"
   ]
  },
  {
   "cell_type": "code",
   "execution_count": null,
   "metadata": {},
   "outputs": [],
   "source": [
    "#Exercicio 3\n",
    "vogais=['A','E','I','O','U','a','e','i','o','u']\n",
    "umavogal=[]\n",
    "for palavra in palavras:\n",
    "    palavraorig=palavra\n",
    "    palavra=list(palavra)\n",
    "    quantidadevogais=0\n",
    "    for vogal in vogais:\n",
    "        while vogal in palavra:\n",
    "            palavra.remove(vogal)\n",
    "            quantidadevogais+=1\n",
    "    if quantidadevogais==1:\n",
    "        umavogal.append(palavraorig)\n",
    "print(umavogal)        "
   ]
  },
  {
   "cell_type": "code",
   "execution_count": null,
   "metadata": {},
   "outputs": [],
   "source": [
    "#Exercicio 4\n",
    "bigramas=[]\n",
    "for i in range(0,len(palavras)-1):\n",
    "    bigramas.append(palavras[i]+' --> '+palavras[i+1])\n",
    "contagem={}\n",
    "for i in bigramas:    \n",
    "    if i in contagem:\n",
    "        contagem[i]+=1\n",
    "    else:\n",
    "        contagem[i]=0\n",
    "bigramas=list(set(bigramas))\n",
    "listafinal=[]\n",
    "for k in bigramas:\n",
    "    listafinal.append([str(contagem[k]),k])\n",
    "listafinal.sort(reverse=True)"
   ]
  },
  {
   "cell_type": "code",
   "execution_count": null,
   "metadata": {},
   "outputs": [],
   "source": [
    "g = open('ex4revisaoa22018.txt', mode='w', encoding='utf-8')\n",
    "for i in listafinal:\n",
    "    g.write(i[1])\n",
    "    g.write(' -|- ')\n",
    "    g.write(i[0])\n",
    "    g.write('\\n')\n",
    "g.close()"
   ]
  },
  {
   "cell_type": "code",
   "execution_count": null,
   "metadata": {},
   "outputs": [],
   "source": [
    "f.close()"
   ]
  },
  {
   "cell_type": "markdown",
   "metadata": {},
   "source": [
    "### Parte 4 - Bancos de dados"
   ]
  },
  {
   "cell_type": "code",
   "execution_count": null,
   "metadata": {},
   "outputs": [],
   "source": [
    "p = getpass.getpass()\n",
    "conn = pymysql.connect(host='127.0.0.1', #localhost\n",
    "                       port=3306, \n",
    "                       user='aluno', \n",
    "                       passwd=p, \n",
    "                       db='SQLExample1')\n",
    "cur = conn.cursor()"
   ]
  },
  {
   "cell_type": "code",
   "execution_count": null,
   "metadata": {},
   "outputs": [],
   "source": [
    "cur.execute('use SQLExample1;')\n",
    "cur.execute('show tables;')\n",
    "for r in cur.fetchall():\n",
    "    print(r)"
   ]
  },
  {
   "cell_type": "code",
   "execution_count": null,
   "metadata": {},
   "outputs": [],
   "source": [
    "cur.execute('describe account;')\n",
    "for r in cur.fetchall():\n",
    "    print(r)"
   ]
  },
  {
   "cell_type": "code",
   "execution_count": null,
   "metadata": {},
   "outputs": [],
   "source": [
    "cur.execute('select * from account limit 5;')\n",
    "for r in cur.fetchall():\n",
    "    print(r)"
   ]
  },
  {
   "cell_type": "code",
   "execution_count": null,
   "metadata": {},
   "outputs": [],
   "source": [
    "cur.execute('describe employees;')\n",
    "for r in cur.fetchall():\n",
    "    print(r)"
   ]
  },
  {
   "cell_type": "code",
   "execution_count": null,
   "metadata": {},
   "outputs": [],
   "source": [
    "cur.execute('select * from product;')\n",
    "for r in cur.fetchall():\n",
    "    print(r)"
   ]
  },
  {
   "cell_type": "code",
   "execution_count": null,
   "metadata": {},
   "outputs": [],
   "source": [
    "cur.execute('describe product_type;')\n",
    "for r in cur.fetchall():\n",
    "    print(r)"
   ]
  },
  {
   "cell_type": "code",
   "execution_count": null,
   "metadata": {},
   "outputs": [],
   "source": [
    "cur.execute('select * from product_type;')\n",
    "for r in cur.fetchall():\n",
    "    print(r)"
   ]
  },
  {
   "cell_type": "code",
   "execution_count": null,
   "metadata": {},
   "outputs": [],
   "source": [
    "cur.execute('describe account;')\n",
    "for r in cur.fetchall():\n",
    "    print(r)"
   ]
  },
  {
   "cell_type": "code",
   "execution_count": null,
   "metadata": {},
   "outputs": [],
   "source": [
    "cur.execute('select * from employee limit 10;')\n",
    "for r in cur.fetchall():\n",
    "    print(r)"
   ]
  },
  {
   "cell_type": "markdown",
   "metadata": {},
   "source": [
    "1 - Na tabela \"account\", quais os valores médio, mínimo e máximo de \"avail_balance\"?"
   ]
  },
  {
   "cell_type": "code",
   "execution_count": null,
   "metadata": {},
   "outputs": [],
   "source": [
    "cur.execute('select max(avail_balance),min(avail_balance),avg(avail_balance) from account')\n",
    "for r in cur.fetchall():\n",
    "    print(r)"
   ]
  },
  {
   "cell_type": "markdown",
   "metadata": {},
   "source": [
    "2 - Quais registros na tabela \"account\" estão acima da média de \"avail_balance\"?"
   ]
  },
  {
   "cell_type": "code",
   "execution_count": null,
   "metadata": {},
   "outputs": [],
   "source": [
    "cur.execute('select * from account where avail_balance > (select avg(avail_balance) from account)')\n",
    "for r in cur.fetchall():\n",
    "    print(r)"
   ]
  },
  {
   "cell_type": "markdown",
   "metadata": {},
   "source": [
    "3 - Na tabela \"account\", quais as 3 datas mais recentes e as 3 datas mais antigas (\"open_date\")?"
   ]
  },
  {
   "cell_type": "code",
   "execution_count": null,
   "metadata": {},
   "outputs": [],
   "source": [
    "cur.execute('''\n",
    "(select open_date from account order by open_date limit 3)\n",
    "union all\n",
    "(select open_date from account order by open_date desc limit 3)\n",
    "''')\n",
    "for r in cur.fetchall():\n",
    "    print(r)"
   ]
  },
  {
   "cell_type": "markdown",
   "metadata": {},
   "source": [
    "4 - Para cada elemento na tabela \"product\", exiba o nome completo do \"product_type_cd\" (tabela \"product_type\")"
   ]
  },
  {
   "cell_type": "code",
   "execution_count": null,
   "metadata": {},
   "outputs": [],
   "source": [
    "cur.execute('use SQLExample1;')"
   ]
  },
  {
   "cell_type": "code",
   "execution_count": null,
   "metadata": {},
   "outputs": [],
   "source": [
    "q = '''\n",
    "SELECT p.name, t.name FROM product AS p \n",
    "JOIN product_type AS t\n",
    "ON p.product_type_cd = t.product_type_cd\n",
    ";\n",
    "'''\n",
    "\n",
    "cur.execute(q)\n",
    "for r in cur.fetchall():\n",
    "    print(r)"
   ]
  },
  {
   "cell_type": "markdown",
   "metadata": {},
   "source": [
    "5 - Quantos empregados (\"employees\") possuem a letra \"e\" em seus nomes? E quantos tem sobrenomes que terminam com \"r\"? "
   ]
  },
  {
   "cell_type": "code",
   "execution_count": null,
   "metadata": {},
   "outputs": [],
   "source": [
    "cur.execute('''\n",
    "(select count(fname) from employee where fname like \"%e%\")\n",
    "union all\n",
    "(select count(lname) from employee where lname like \"%r\")\n",
    "''')\n",
    "for r in cur.fetchall():\n",
    "    print(r)"
   ]
  },
  {
   "cell_type": "markdown",
   "metadata": {},
   "source": [
    "6 - Quais são os títulos (\"title\") possíveis para os empregados (\"employees\")? "
   ]
  },
  {
   "cell_type": "code",
   "execution_count": null,
   "metadata": {},
   "outputs": [],
   "source": [
    "cur.execute('select distinct title from employee')\n",
    "for r in cur.fetchall():\n",
    "    print(r)"
   ]
  },
  {
   "cell_type": "markdown",
   "metadata": {},
   "source": [
    "7 - Quantos empregados (\"employees\") estão a exatamente dois níveis abaixo do presidente? "
   ]
  },
  {
   "cell_type": "code",
   "execution_count": null,
   "metadata": {},
   "outputs": [],
   "source": [
    "q = '''\n",
    "SELECT * FROM employee WHERE superior_emp_id IN \n",
    "(SELECT emp_id FROM employee WHERE superior_emp_id = 1)\n",
    ";\n",
    "'''\n",
    "\n",
    "cur.execute(q)\n",
    "for r in cur.fetchall():\n",
    "    print(r)"
   ]
  },
  {
   "cell_type": "markdown",
   "metadata": {},
   "source": [
    "8 - Na tabela \"account\", quais os valores médio, mínimo e máximo de \"avail_balance\" por tipo de 'product_cd' ?"
   ]
  },
  {
   "cell_type": "code",
   "execution_count": null,
   "metadata": {},
   "outputs": [],
   "source": [
    "cur.execute('select product_cd,max(avail_balance),avg(avail_balance),min(avail_balance) from account group by product_cd')\n",
    "for r in cur.fetchall():\n",
    "    print(r)"
   ]
  },
  {
   "cell_type": "markdown",
   "metadata": {},
   "source": [
    "9 - Na tabela \"transaction\", há quantos registros por ano (\"txn_date\")?"
   ]
  },
  {
   "cell_type": "code",
   "execution_count": null,
   "metadata": {},
   "outputs": [],
   "source": [
    "cur.execute('describe transaction')\n",
    "for r in cur.fetchall():\n",
    "    print(r)"
   ]
  },
  {
   "cell_type": "code",
   "execution_count": null,
   "metadata": {},
   "outputs": [],
   "source": [
    "cur.execute('select distinct year(txn_date),count(txn_date) from transaction group by year(txn_date)')\n",
    "for r in cur.fetchall():\n",
    "    print(r)"
   ]
  },
  {
   "cell_type": "markdown",
   "metadata": {},
   "source": [
    "10 - Você é dono de uma loja de automóveis. Crie tabelas no banco \"alunos\" para representar os carros de seu pátio, os modelos de automóveis, os clientes e as compras realizadas. "
   ]
  },
  {
   "cell_type": "code",
   "execution_count": null,
   "metadata": {},
   "outputs": [],
   "source": [
    "cur.execute('use alunos;')\n",
    "cur.execute('show tables;')\n",
    "for r in cur.fetchall():\n",
    "    print(r)"
   ]
  },
  {
   "cell_type": "code",
   "execution_count": null,
   "metadata": {},
   "outputs": [],
   "source": [
    "q = '''CREATE TABLE IF NOT EXISTS carros\n",
    "       (text VARCHAR(200) DEFAULT NULL,\n",
    "        number INT DEFAULT NULL)\n",
    "        ENGINE=MyISAM DEFAULT CHARSET='utf8';'''\n",
    "\n",
    "cur.execute(q)"
   ]
  },
  {
   "cell_type": "code",
   "execution_count": null,
   "metadata": {},
   "outputs": [],
   "source": [
    "cur.execute('show tables;')\n",
    "for r in cur.fetchall():\n",
    "    print(r)"
   ]
  },
  {
   "cell_type": "markdown",
   "metadata": {},
   "source": [
    "11 - Crie uma lista no Python com todos os nomes e sobrenomes em strings únicas, a partir da tabela \"individual\"  "
   ]
  },
  {
   "cell_type": "code",
   "execution_count": null,
   "metadata": {},
   "outputs": [],
   "source": [
    "cur.execute('describe individual')\n",
    "for r in cur.fetchall():\n",
    "    print(r)"
   ]
  },
  {
   "cell_type": "code",
   "execution_count": null,
   "metadata": {},
   "outputs": [],
   "source": [
    "nomes=[]\n",
    "cur.execute('select fname,lname from individual')\n",
    "for r in cur.fetchall():\n",
    "    a,b=r\n",
    "    nomes.append('{} {}'.format(a,b))\n",
    "print(nomes)"
   ]
  },
  {
   "cell_type": "markdown",
   "metadata": {},
   "source": [
    "12 - A partir da tabela \"individual\", crie um dicionário no Python tendo os nomes e sobrenomes em strings únicas como chaves e os anos das datas como valores."
   ]
  },
  {
   "cell_type": "code",
   "execution_count": null,
   "metadata": {},
   "outputs": [],
   "source": [
    "dicionario={}\n",
    "cur.execute('select fname,lname,year(birth_date) from individual')\n",
    "for r in cur.fetchall():\n",
    "    a,b,c=r\n",
    "    dicionario[a+' '+b]=c\n",
    "print(dicionario)"
   ]
  },
  {
   "cell_type": "markdown",
   "metadata": {},
   "source": [
    "13 - Utilizando Python, crie um banco de dados no sqlite que guarde a seguinte estrutura, demonstrada no dataframe do Pandas:  \n",
    "Use os tipos de dados mais adequados.  \n",
    "\n",
    "Veja:  \n",
    "https://sqlite.org/datatype3.html    \n",
    "https://sqlite.org/autoinc.html  \n",
    "https://www.tutorialspoint.com/sqlite/sqlite_update_query.htm  "
   ]
  },
  {
   "cell_type": "code",
   "execution_count": null,
   "metadata": {},
   "outputs": [],
   "source": [
    "df_tf = pd.read_excel('../Dados/votesurvey.xls')\n",
    "df_tf.index.name = 'id'\n",
    "df_tf.head(10)"
   ]
  },
  {
   "cell_type": "code",
   "execution_count": null,
   "metadata": {},
   "outputs": [],
   "source": [
    "conn=sqlite3.connect('questao13.db')\n",
    "cur=conn.cursor()"
   ]
  },
  {
   "cell_type": "code",
   "execution_count": null,
   "metadata": {},
   "outputs": [],
   "source": [
    "q = '''CREATE TABLE IF NOT EXISTS salarios\n",
    "       (genero VARCHAR(6),\n",
    "       idade INT,\n",
    "       salarioantes INT,\n",
    "       salarioesperado INT,\n",
    "       candidato VARCHAR(16))'''\n",
    "\n",
    "cur.execute(q)"
   ]
  },
  {
   "cell_type": "code",
   "execution_count": null,
   "metadata": {},
   "outputs": [],
   "source": [
    "for r in df_tf.values:\n",
    "    k=list(r[0:])\n",
    "    q='INSERT INTO salarios VALUES (\"{}\",{},{},{},\"{}\");'.format(str(k[0]),str(k[1]),str(k[2]),str(k[3]),str(k[4]))\n",
    "    cur.execute(q)"
   ]
  },
  {
   "cell_type": "markdown",
   "metadata": {},
   "source": [
    "14 - Conecte ao banco SQLite \"iris_database.sqlite\"e responda, demonstrando os comandos SQL apropriados:  \n",
    "\n",
    "a) Há quantas \"Species\" diferentes na tabela \"iris\"?  \n",
    "b) Quantos registros totais há na tabela \"iris\"?  \n",
    "\n",
    "Considerando a superfície das pétalas e sépalas como retangular, responda:  \n",
    "\n",
    "c) Qual espécie (\"Species\") contém, em média, a maior área de pétalas?  \n",
    "d) Qual espécie (\"Species\") contém, em média, a maior área total (pétalas e sépalas)?  \n",
    "\n",
    "(Por curiosidade, as espécies de Iris contém 3 pétalas e 3 sépalas)  "
   ]
  },
  {
   "cell_type": "code",
   "execution_count": null,
   "metadata": {},
   "outputs": [],
   "source": [
    "conn = sqlite3.connect('../Dados/iris_database.sqlite')\n",
    "cur = conn.cursor()"
   ]
  },
  {
   "cell_type": "code",
   "execution_count": null,
   "metadata": {},
   "outputs": [],
   "source": [
    "cur.execute(\"select sql from sqlite_master where type = 'table' and name = 'Iris';\")\n",
    "for r in cur.fetchall():\n",
    "    print(r)"
   ]
  },
  {
   "cell_type": "code",
   "execution_count": null,
   "metadata": {},
   "outputs": [],
   "source": [
    "#letra a:\n",
    "cur.execute(\"select count(distinct Species) from Iris\")\n",
    "for r in cur.fetchall():\n",
    "    print(r)"
   ]
  },
  {
   "cell_type": "code",
   "execution_count": null,
   "metadata": {},
   "outputs": [],
   "source": [
    "#Letra b:\n",
    "cur.execute(\"select count(Id) from Iris\")\n",
    "for r in cur.fetchall():\n",
    "    print(r)"
   ]
  },
  {
   "cell_type": "code",
   "execution_count": null,
   "metadata": {},
   "outputs": [],
   "source": [
    "#Letra c:\n",
    "cur.execute('SELECT max(area), Species FROM (SELECT AVG(PetalLengthCm*PetalWidthCm) as area, Species FROM iris GROUP BY Species)')\n",
    "for r in cur.fetchall():\n",
    "    print(r)"
   ]
  },
  {
   "cell_type": "code",
   "execution_count": null,
   "metadata": {},
   "outputs": [],
   "source": [
    "#Letra d:\n",
    "cur.execute('SELECT max(area), Species FROM (SELECT AVG(SepalLengthCm*SepalWidthCm) as area, Species FROM iris GROUP BY Species)')\n",
    "for r in cur.fetchall():\n",
    "    print(r)"
   ]
  },
  {
   "cell_type": "code",
   "execution_count": null,
   "metadata": {},
   "outputs": [],
   "source": [
    "conn.close()"
   ]
  },
  {
   "cell_type": "markdown",
   "metadata": {},
   "source": [
    "15 - Conecte ao banco Python/Dados/chinook.sqlite e responda:\n",
    "\n",
    "a) Utilizando um comando SQL e as tabelas \"invoices\", \"invoice_items\", \"customers\" e \"tracks\", mostre quais as faixas compradas por clientes que têm o primeiro nome começando com a letra \"M\".  \n",
    "b) Quais clientes contêm a letra \"o\" tanto no nome como no sobrenome?  \n",
    "c) Crie um histograma de faixas (\"tracks\") mais compradas, usando o matplotlib.  \n",
    "d) Qual o cliente (\"customers\") que teve gasto médio em compras (\"invoices\") o valor mais próximo do valor médio do total de compras de todos os clientes?  \n",
    "e) Escreva um script em Python + SQL para construir um dicionário tendo os nomes dos artistas (\"artists\") como chaves e uma lista dos álbuns (\"albuns\") respectivos como valores."
   ]
  },
  {
   "cell_type": "code",
   "execution_count": null,
   "metadata": {},
   "outputs": [],
   "source": [
    "conn = sqlite3.connect('../Dados/chinook.sqlite')\n",
    "cur = conn.cursor()"
   ]
  },
  {
   "cell_type": "code",
   "execution_count": null,
   "metadata": {},
   "outputs": [],
   "source": [
    "cur.execute(\"select sql from sqlite_master where type = 'table' and name = 'tracks';\")\n",
    "for r in cur.fetchall():\n",
    "    print(r)"
   ]
  },
  {
   "cell_type": "code",
   "execution_count": null,
   "metadata": {},
   "outputs": [],
   "source": [
    "#Letra a\n",
    "cur.execute('''SELECT customers.FirstName,customers.LastName, tracks.Name FROM customers \n",
    "            INNER JOIN invoices ON customers.customerID = invoices.customerID\n",
    "            INNER JOIN invoice_items ON invoices.invoiceID = invoice_items.invoiceID\n",
    "            INNER JOIN tracks ON invoice_items.trackID = tracks.trackID WHERE customers.FirstName LIKE \"M%\"''')\n",
    "for r in cur.fetchall():\n",
    "    print(r)"
   ]
  },
  {
   "cell_type": "code",
   "execution_count": null,
   "metadata": {},
   "outputs": [],
   "source": [
    "#Letra b\n",
    "cur.execute('select FirstName,LastName from customers where FirstName like \"%o%\" and LastName like \"%o%\"')\n",
    "for r in cur.fetchall():\n",
    "    print(r)"
   ]
  },
  {
   "cell_type": "code",
   "execution_count": null,
   "metadata": {},
   "outputs": [],
   "source": [
    "#Letra c\n",
    "cur.execute('''SELECT SUM(invoice_items.quantity) as p, tracks.name FROM invoice_items \n",
    "            INNER JOIN tracks ON invoice_items.trackID = tracks.trackID GROUP BY tracks.name ORDER BY p DESC''')\n",
    "lista_mus = list(cur.fetchall())\n",
    "for k in range(0,len(lista_mus)-5):\n",
    "    lista_mus.pop()\n",
    "my_xticks=[]\n",
    "y=[]\n",
    "for r in lista_mus:\n",
    "    a,b=r\n",
    "    y.append(a)\n",
    "    my_xticks.append(b)\n",
    "x=np.arange(0,len(lista_mus))\n",
    "y=np.array(y)\n",
    "plt.xticks(x, my_xticks)\n",
    "plt.yticks(np.arange(y.min(), y.max(), 0.05))\n",
    "plt.plot(x, y)\n",
    "plt.grid(axis='y', linestyle='-')\n",
    "plt.show()"
   ]
  },
  {
   "cell_type": "code",
   "execution_count": null,
   "metadata": {},
   "outputs": [],
   "source": [
    "#Letra d\n",
    "q='''\n",
    "select *,abs(p-avg(p)) as k from (select invoices.customerID,avg(invoice_items.UnitPrice * invoice_items.Quantity) as p from invoices\n",
    "inner join customers on customers.CustomerId = invoices.customerID \n",
    "inner join invoice_items on invoices.InvoiceId = invoice_items.InvoiceId\n",
    "group by invoices.customerID) order by k desc\n",
    "'''\n",
    "cur.execute(q)\n",
    "for r in cur.fetchall():\n",
    "    print(r)"
   ]
  },
  {
   "cell_type": "code",
   "execution_count": null,
   "metadata": {},
   "outputs": [],
   "source": [
    "#Letra e\n",
    "q='''\n",
    "select tracks.Composer, albums.Title from albums\n",
    "join tracks on tracks.AlbumId=albums.AlbumId\n",
    "group by albums.Title\n",
    "'''\n",
    "cur.execute(q)\n",
    "dicionario={}\n",
    "for r in cur.fetchall():\n",
    "    a,b=r\n",
    "    if a in dicionario:\n",
    "        dicionario[a].append(b)\n",
    "    else:\n",
    "        dicionario[a]=[b]\n",
    "print(dicionario['Green Day'])"
   ]
  }
 ],
 "metadata": {
  "kernelspec": {
   "display_name": "Python 3",
   "language": "python",
   "name": "python3"
  },
  "language_info": {
   "codemirror_mode": {
    "name": "ipython",
    "version": 3
   },
   "file_extension": ".py",
   "mimetype": "text/x-python",
   "name": "python",
   "nbconvert_exporter": "python",
   "pygments_lexer": "ipython3",
   "version": "3.5.2"
  }
 },
 "nbformat": 4,
 "nbformat_minor": 2
}