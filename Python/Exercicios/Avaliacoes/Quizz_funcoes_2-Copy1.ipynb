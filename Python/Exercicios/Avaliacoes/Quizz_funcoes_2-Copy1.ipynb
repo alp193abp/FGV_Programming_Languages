{
 "cells": [
  {
   "cell_type": "markdown",
   "metadata": {},
   "source": [
    "1 - Dadas uma lista qualquer, como a do exemplo abaixo:"
   ]
  },
  {
   "cell_type": "code",
   "execution_count": 21,
   "metadata": {},
   "outputs": [],
   "source": [
    "lista = [1,2,3,'4',5,6.3,7.4 + 2j,\"123\",[1,2,3], 93, \"98\", (1,2,3,'4')]"
   ]
  },
  {
   "cell_type": "markdown",
   "metadata": {},
   "source": [
    "Crie uma função recursiva para imprimir o antecessor e o sucessor de cada elemento de uma lista:\n",
    "+ Caso este elemento seja inteiro, imprimir o valor;  \n",
    "+ Caso seja uma string, imprimir o inteiro correspondente;  \n",
    "+ Caso seja um real, imprima a parte inteira;\n",
    "+ Caso seja um imaginário, imprima a parte inteira e real;\n",
    "+ Caso seja uma sequência, aplique as regras acima para cada elemento da sequência.  "
   ]
  },
  {
   "cell_type": "code",
   "execution_count": 129,
   "metadata": {},
   "outputs": [],
   "source": [
    "def funcao1(lista):\n",
    "    i=0\n",
    "    if type(lista[i+1])==int:\n",
    "        print(lista[i+1])\n",
    "    elif type(lista[i+1])==str:\n",
    "        print(int(lista[i+1]))\n",
    "    elif type(lista[i+1])==float:\n",
    "        print(int(lista[i+1]))\n",
    "    elif type(lista[i+1])==complex:\n",
    "        print(str(lista[i+1].real)+','+str(lista[i+1].imag))\n",
    "    else:\n",
    "        funcao1(lista[i+1])\n",
    "    for i in range(1,len(lista)-1):   \n",
    "        if type(lista[i-1])==int:\n",
    "            print(lista[i-1])\n",
    "        elif type(lista[i-1])==str:\n",
    "            print(int(lista[i-1]))\n",
    "        elif type(lista[i-1])==float:\n",
    "            print(int(lista[i-1]))\n",
    "        elif type(lista[i-1])==complex:\n",
    "            print(str((lista[i-1]).real)+','+str((lista[i-1]).imag))\n",
    "        else:\n",
    "            funcao1(lista[i+1])\n",
    "        if type(lista[i+1])==int:\n",
    "            print(lista[i+1])\n",
    "        elif type(lista[i+1])==str:\n",
    "            print(int(lista[i+1]))\n",
    "        elif type(lista[i+1])==float:\n",
    "            print(int(lista[i+1]))\n",
    "        elif type(lista[i+1])==complex:\n",
    "            print(str((lista[i+1]).real)+','+str((lista[i+1]).imag))\n",
    "        else:\n",
    "            funcao1(lista[i+1])\n",
    "    i=len(lista)   \n",
    "    if type(lista[i-1])==int:\n",
    "        print(lista[i-1])\n",
    "    elif type(lista[i-1])==str:\n",
    "        print(int(lista[i-1]))\n",
    "    elif type(lista[i-1])==float:\n",
    "        print(int(lista[i-1]))\n",
    "    elif type(lista[i-1])==complex:\n",
    "        print(str(lista[i-1].real)+','+str(lista[i-1].imag))\n",
    "    else:\n",
    "        funcao1(lista[i-1])"
   ]
  },
  {
   "cell_type": "code",
   "execution_count": 130,
   "metadata": {},
   "outputs": [
    {
     "name": "stdout",
     "output_type": "stream",
     "text": [
      "2\n",
      "1\n",
      "3\n",
      "2\n",
      "4\n",
      "3\n",
      "5\n",
      "4\n",
      "6\n",
      "5\n",
      "7.4,2.0\n",
      "6\n",
      "123\n",
      "7.4,2.0\n",
      "2\n",
      "1\n",
      "3\n",
      "3\n",
      "123\n",
      "93\n",
      "8\n",
      "8\n",
      "98\n",
      "93\n",
      "2\n",
      "1\n",
      "3\n",
      "2\n",
      "4\n",
      "4\n",
      "2\n",
      "1\n",
      "3\n",
      "2\n",
      "4\n",
      "4\n"
     ]
    }
   ],
   "source": [
    "funcao1(lista)"
   ]
  },
  {
   "cell_type": "markdown",
   "metadata": {},
   "source": [
    "2 - Crie uma função, ou conjunto de funções, para exibir por extenso o valor de qualquer número inteiro até 1000.  \n",
    "Exemplo:  \n",
    "\n",
    "    print(imprime_extenso(234))  \n",
    "    > 'duzentos e trinta e quatro'  "
   ]
  },
  {
   "cell_type": "code",
   "execution_count": null,
   "metadata": {},
   "outputs": [],
   "source": [
    "    N=int(input())\n",
    "    C=int(N/100)\n",
    "    B=int((N-C*100)/10)\n",
    "    A=int(N-C*100-B*10)\n",
    "    T=str(N)\n",
    "    Texto=''\n",
    "    dicA={1:'um',2:'dois',3:'tres',4:'quatro',5:'cinco',6:'seis',7:'sete',8:'oito',9:'nove'}\n",
    "    dicB={2:'vinte', 3:'trinta',4:'quatenta',5:'cinquenta',6:'sessenta',7:'setenta',8:'oitenta',9:'noventa'}\n",
    "    dicC={1:'cento', 2:'duzentos',3:'trezentos',4:'quatrocentos',5:'quinhentos',6:'seiscentos',7:'setecentos',8:'oitocentos',9:'novecentos'}\n",
    "    if N==0:\n",
    "        print('zero')\n",
    "    elif N==1000:\n",
    "        print('mil')\n",
    "    elif N==10:\n",
    "        print('dez')\n",
    "    elif N==11:\n",
    "        print('onze')\n",
    "    elif N==12:\n",
    "        print('doze')\n",
    "    elif N==13:\n",
    "        print('treze')\n",
    "    elif N==14:\n",
    "        print('quatorze')\n",
    "    elif N==15:\n",
    "        print('quinze')\n",
    "    elif N==16:\n",
    "        print('dezesseis')\n",
    "    elif N==17:\n",
    "        print('dezessete')\n",
    "    elif N==18:\n",
    "        print('dezoito')\n",
    "    elif N==19:\n",
    "        print('dezenove')\n",
    "    elif N==100:\n",
    "        print('cem')\n",
    "    elif len(T)==1:\n",
    "        print(dicA[A])\n",
    "    elif len(T)==2:\n",
    "        Texto=Texto+str(dicB[B])\n",
    "        if A!=0:\n",
    "            Texto=Texto+' e '\n",
    "            Texto=Texto+str(dicC[C])\n",
    "        print(Texto)\n",
    "    elif len(T)==3:\n",
    "        Texto=Texto+str(dicC[C])\n",
    "        if B!=0:\n",
    "            Texto=Texto+' e '\n",
    "            Texto=Texto+str(dicB[B])\n",
    "        if A!=0:\n",
    "            Texto=Texto+' e '\n",
    "            Texto=Texto+str(dicA[A])\n",
    "        print(Texto)"
   ]
  },
  {
   "cell_type": "markdown",
   "metadata": {},
   "source": [
    "3- Em alguns lugares é comum lembrar um número do telefone associando seus dígitos a letras. Dessa maneira a expressão MY LOVE significa 69 5683. Claro que existem alguns problemas, uma vez que alguns números de telefone não formam uma palavra ou uma frase e os dígitos 1 e 0 não estão associados a nenhuma letra.  \n",
    "\n",
    "Sua tarefa é ler uma expressão e encontrar o número de telefone correspondente baseado na tabela abaixo. Uma expressão é composta por letras maiúsculas (A-Z), hifens (-) e os números 1 e 0.  \n",
    "\n",
    "Letras  ->  Número  \n",
    "ABC    ->  2   \n",
    "DEF    ->  3   \n",
    "GHI    ->  4   \n",
    "JKL    ->  5   \n",
    "MNO    ->  6   \n",
    "PQRS    ->  7   \n",
    "TUV    ->  8   \n",
    "WXYZ   ->  9   \n",
    "\n",
    "Entrada  \n",
    "\n",
    "A entrada consiste de um conjunto de expressões. Cada expressão está sozinha em uma linha e possui C caracteres, onde 1 ≤ C ≤ 30. A entrada é terminada por fim de arquivo (EOF).  \n",
    "\n",
    "Saída  \n",
    "\n",
    "Para cada expressão você deve imprimir o número de telefone correspondente.  \n",
    "\n",
    "Exemplo de entrada:  \n",
    "\n",
    "1-HOME-SWEET-HOME  \n",
    "MY-MISERABLE-JOB  \n",
    "\n",
    "Saída correspondente:\n",
    "\n",
    "1-4663-79338-4663  \n",
    "69-647372253-562  "
   ]
  },
  {
   "cell_type": "code",
   "execution_count": 18,
   "metadata": {},
   "outputs": [
    {
     "name": "stdout",
     "output_type": "stream",
     "text": [
      "1-HOME-SWEET-HOME\n",
      "1-4663-79338-4663\n",
      "MY-MISERABLE-JOB\n",
      "69-647372253-562\n",
      "EOF\n"
     ]
    }
   ],
   "source": [
    "Frase=str(input())\n",
    "while Frase!='EOF':\n",
    "    Telefone=\"\"\n",
    "    for i in range(0,len(Frase)):\n",
    "        if Frase[i]=='A' or Frase[i]=='B' or Frase[i]=='C':\n",
    "            Telefone=Telefone+'2'\n",
    "        elif Frase[i]=='D' or Frase[i]=='E' or Frase[i]=='F':\n",
    "            Telefone=Telefone+str(3)\n",
    "        elif Frase[i]=='G' or Frase[i]=='H' or Frase[i]=='I':\n",
    "            Telefone=Telefone+str(4)\n",
    "        elif Frase[i]=='J' or Frase[i]=='K' or Frase[i]=='L':\n",
    "            Telefone=Telefone+str(5)\n",
    "        elif Frase[i]=='M' or Frase[i]=='N' or Frase[i]=='O':\n",
    "            Telefone=Telefone+str(6)\n",
    "        elif Frase[i]=='P' or Frase[i]=='Q' or Frase[i]=='R' or Frase[i]=='S':\n",
    "            Telefone=Telefone+str(7)\n",
    "        elif Frase[i]=='T' or Frase[i]=='U' or Frase[i]=='V':\n",
    "            Telefone=Telefone+str(8)\n",
    "        elif Frase[i]=='W' or Frase[i]=='X' or Frase[i]=='Y' or Frase[i]=='Z':\n",
    "            Telefone=Telefone+str(9)\n",
    "        elif Frase[i]==str(1):\n",
    "            Telefone=Telefone+str(1)\n",
    "        elif Frase[i]==str(0):\n",
    "            Telefone=Telefone+str(0)\n",
    "        else:\n",
    "            Telefone=Telefone+'-'\n",
    "    print(Telefone)\n",
    "    Frase=str(input())"
   ]
  },
  {
   "cell_type": "markdown",
   "metadata": {},
   "source": [
    "4- Dada um texto em formato string, encontre todas as palavras pertencentes a esta string que contenham uma determinada letra, passada como parâmetro. "
   ]
  },
  {
   "cell_type": "code",
   "execution_count": 135,
   "metadata": {},
   "outputs": [],
   "source": [
    "import string"
   ]
  },
  {
   "cell_type": "code",
   "execution_count": 136,
   "metadata": {},
   "outputs": [],
   "source": [
    "Texto='Respondendo a um quizz, em uma sexta feira.'"
   ]
  },
  {
   "cell_type": "code",
   "execution_count": 137,
   "metadata": {},
   "outputs": [],
   "source": [
    "def ProcuraPalavra(texto,letra):\n",
    "    Palavras=[ListaPalavras.lower().strip(string.punctuation+string.digits+'“'+'”'+'‘'+'’') for ListaPalavras in texto.split()]\n",
    "    PalavrasEleitas=[ListaPalavras for ListaPalavras in Palavras if letra in ListaPalavras]\n",
    "    return(PalavrasEleitas)   "
   ]
  },
  {
   "cell_type": "code",
   "execution_count": 138,
   "metadata": {},
   "outputs": [
    {
     "data": {
      "text/plain": [
       "['um', 'quizz', 'uma']"
      ]
     },
     "execution_count": 138,
     "metadata": {},
     "output_type": "execute_result"
    }
   ],
   "source": [
    "ProcuraPalavra(Texto,'u')"
   ]
  }
 ],
 "metadata": {
  "kernelspec": {
   "display_name": "Python 3",
   "language": "python",
   "name": "python3"
  },
  "language_info": {
   "codemirror_mode": {
    "name": "ipython",
    "version": 3
   },
   "file_extension": ".py",
   "mimetype": "text/x-python",
   "name": "python",
   "nbconvert_exporter": "python",
   "pygments_lexer": "ipython3",
   "version": "3.5.2"
  }
 },
 "nbformat": 4,
 "nbformat_minor": 2
}
