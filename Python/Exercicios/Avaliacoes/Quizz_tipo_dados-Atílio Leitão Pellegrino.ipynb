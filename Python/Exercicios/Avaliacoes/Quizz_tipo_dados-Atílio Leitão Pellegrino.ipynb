{
 "cells": [
  {
   "cell_type": "markdown",
   "metadata": {},
   "source": [
    "1 - Quais são as estruturas de dados primitivas mais comuns na linguagem Python? Exemplifique criando variáveis de cada uma destas estruturas."
   ]
  },
  {
   "cell_type": "code",
   "execution_count": 1,
   "metadata": {},
   "outputs": [],
   "source": [
    "#Numérico:\n",
    "a=25 #int\n",
    "b=12.99 #float\n",
    "c=2+3j #complex\n",
    "\n",
    "#String\n",
    "d=\"Linguagens de Programação\"\n",
    "\n",
    "#Lista\n",
    "e=[1,1,5,50,6]\n",
    "\n",
    "#Conjunto\n",
    "f={1,2,3,4}\n",
    "\n",
    "#Tupla\n",
    "g=(1,2,3,59,8)\n",
    "\n",
    "#Dicionário\n",
    "h={'chave1':'definição1','chave2':'definição2'}\n",
    "\n",
    "#Boleano\n",
    "i=True\n",
    "j=False\n",
    "\n",
    "#None\n",
    "k=None"
   ]
  },
  {
   "cell_type": "markdown",
   "metadata": {},
   "source": [
    "2 - Dê pelo menos 5 exemplos de conversões entre tipos de dados, utilizando as variáveis criadas na questão anterior  "
   ]
  },
  {
   "cell_type": "code",
   "execution_count": 2,
   "metadata": {},
   "outputs": [
    {
     "data": {
      "text/plain": [
       "25.0"
      ]
     },
     "execution_count": 2,
     "metadata": {},
     "output_type": "execute_result"
    }
   ],
   "source": [
    "float(a)"
   ]
  },
  {
   "cell_type": "code",
   "execution_count": 3,
   "metadata": {},
   "outputs": [
    {
     "data": {
      "text/plain": [
       "{1, 5, 6, 50}"
      ]
     },
     "execution_count": 3,
     "metadata": {},
     "output_type": "execute_result"
    }
   ],
   "source": [
    "set(e)"
   ]
  },
  {
   "cell_type": "code",
   "execution_count": 9,
   "metadata": {},
   "outputs": [
    {
     "data": {
      "text/plain": [
       "[1, 2, 3, 59, 8]"
      ]
     },
     "execution_count": 9,
     "metadata": {},
     "output_type": "execute_result"
    }
   ],
   "source": [
    "list(g)"
   ]
  },
  {
   "cell_type": "code",
   "execution_count": 10,
   "metadata": {},
   "outputs": [
    {
     "data": {
      "text/plain": [
       "(1, 2, 3, 4)"
      ]
     },
     "execution_count": 10,
     "metadata": {},
     "output_type": "execute_result"
    }
   ],
   "source": [
    "tuple(f)"
   ]
  },
  {
   "cell_type": "code",
   "execution_count": 11,
   "metadata": {},
   "outputs": [
    {
     "data": {
      "text/plain": [
       "12"
      ]
     },
     "execution_count": 11,
     "metadata": {},
     "output_type": "execute_result"
    }
   ],
   "source": [
    "int(b)"
   ]
  },
  {
   "cell_type": "markdown",
   "metadata": {},
   "source": [
    "3- Exemplifique o uso de algumas primitivas, de forma isolada ou combinada, para criar as seguintes estruturas de dados:  \n",
    "\n",
    "+ Um registro médico\n",
    "+ Uma matriz de pixels em formato RGB\n",
    "+ Um conjunto de coordenadas geográficas representando a sede da prefeitura e do corpo de bombeiros em 4 cidades diferentes"
   ]
  },
  {
   "cell_type": "code",
   "execution_count": 13,
   "metadata": {},
   "outputs": [
    {
     "name": "stdout",
     "output_type": "stream",
     "text": [
      "{'Paciente': 'Atílio', 'Altura': 1.81, 'Idade': 18, 'Doença': 'Gripe', 'Remédio': 'rem.01', 'Peso': 80}\n"
     ]
    }
   ],
   "source": [
    "registro_médico={'Paciente':'Atílio', 'Idade':18,'Altura':1.81,'Peso':80,'Doença':'Gripe', 'Remédio':'rem.01'}\n",
    "print(registro_médico)"
   ]
  },
  {
   "cell_type": "code",
   "execution_count": 93,
   "metadata": {},
   "outputs": [
    {
     "name": "stdout",
     "output_type": "stream",
     "text": [
      "[[[1, 1, 1], [1, 2, 3], [1, 2, 0]], [[1, 4, 2], [1, 2, 3], [1, 0, 4]], [[5, 1, 1], [1, 2, 8], [3, 2, 1]]]\n"
     ]
    }
   ],
   "source": [
    "matriz=[[[1,1,1],[1,2,3],[1,2,0]],\n",
    "        [[1,4,2],[1,2,3],[1,0,4]],\n",
    "        [[5,1,1],[1,2,8],[3,2,1]]]\n",
    "print(matriz)"
   ]
  },
  {
   "cell_type": "code",
   "execution_count": 28,
   "metadata": {},
   "outputs": [
    {
     "name": "stdout",
     "output_type": "stream",
     "text": [
      "{'Corpo de Bombeiros': {'Cidade D': '30,72°N 32,11°O', 'Cidade B': '14,18°N 16,13°L', 'Cidade C': '10,03°S 43,18°O', 'Cidade A': '26,53°S 64,13°O'}, 'Prefeitura': {'Cidade D': '29,72°N 33,11°O', 'Cidade B': '13,18°N 15,13°L', 'Cidade C': '09,03°S 44,18°O', 'Cidade A': '25,53°S 63,13°O'}}\n"
     ]
    }
   ],
   "source": [
    "coordenadas={'Prefeitura' : {'Cidade A' : '25,53°S 63,13°O' , 'Cidade B' : '13,18°N 15,13°L' , \n",
    "                           'Cidade C':'09,03°S 44,18°O' , 'Cidade D':'29,72°N 33,11°O' } ,\n",
    "            'Corpo de Bombeiros' : {'Cidade A' : '26,53°S 64,13°O' , 'Cidade B' : '14,18°N 16,13°L' , \n",
    "                           'Cidade C':'10,03°S 43,18°O' , 'Cidade D':'30,72°N 32,11°O' }}\n",
    "print(coordenadas)"
   ]
  },
  {
   "cell_type": "markdown",
   "metadata": {},
   "source": [
    "4- Exemplifique o acesso aos elementos de informação das estruturas criadas na questão anterior."
   ]
  },
  {
   "cell_type": "code",
   "execution_count": 37,
   "metadata": {},
   "outputs": [
    {
     "data": {
      "text/plain": [
       "'Atílio'"
      ]
     },
     "execution_count": 37,
     "metadata": {},
     "output_type": "execute_result"
    }
   ],
   "source": [
    "registro_médico['Paciente']"
   ]
  },
  {
   "cell_type": "code",
   "execution_count": 67,
   "metadata": {},
   "outputs": [
    {
     "data": {
      "text/plain": [
       "[[0, 2, 0], [1, 0, 1], [2, 0, 1]]"
      ]
     },
     "execution_count": 67,
     "metadata": {},
     "output_type": "execute_result"
    }
   ],
   "source": [
    "matriz[2]"
   ]
  },
  {
   "cell_type": "code",
   "execution_count": 41,
   "metadata": {},
   "outputs": [
    {
     "data": {
      "text/plain": [
       "'13,18°N 15,13°L'"
      ]
     },
     "execution_count": 41,
     "metadata": {},
     "output_type": "execute_result"
    }
   ],
   "source": [
    "coordenadas['Prefeitura']['Cidade B']"
   ]
  },
  {
   "cell_type": "markdown",
   "metadata": {},
   "source": [
    "5- Explique o que são, exemplifique, e mostre algumas características de:  \n",
    "\n",
    "+ Tipos mutáveis e tipos imutáveis  \n",
    "+ Tipos \"container\"\n",
    "+ Tipos sequenciais\n"
   ]
  },
  {
   "cell_type": "code",
   "execution_count": null,
   "metadata": {
    "collapsed": true
   },
   "outputs": [],
   "source": [
    "#Tipo mutáveis podem ser alterados: por exemplo, conjunto, dicionário,lista.\n",
    "    #Podemos incluir ou excluir elementos:\n",
    "    lista=[1,2,3]\n",
    "    lista.append(8) #inclui o elemento 8 a lista\n",
    "    print(lista)\n",
    "#Tipos imutáveis são tipos que não podem ser alterados: por exemplo, tipos: númericos, tupla, string, none,boleano."
   ]
  },
  {
   "cell_type": "code",
   "execution_count": null,
   "metadata": {
    "collapsed": true
   },
   "outputs": [],
   "source": [
    "#Tipo containers contém \"objetos\": conjunto, lista, tupla, dicionário, string.\n",
    "conjunto5={1,2,3,3,5}\n",
    "string5='Bom dia'\n",
    "#Alguns containers são sequenciais e outros não. Além disso, por exemplo o conjunto não repete elementos."
   ]
  },
  {
   "cell_type": "code",
   "execution_count": null,
   "metadata": {
    "collapsed": true
   },
   "outputs": [],
   "source": [
    "#Tipo sequenciais, são \"containers\" que mantém a ordem dos objetos, na ordem que você digitou.\n",
    "#Por exemplo, lista, tupla e string.\n",
    "tupla5=(1,2,3,5)\n",
    "#A vantagem é que mantém a ordem e pode repetir elementos."
   ]
  },
  {
   "cell_type": "markdown",
   "metadata": {},
   "source": [
    "6- Exemplifique chamadas de métodos em variáveis associadas a tipos de dados que:  \n",
    "+ Não modifiquem a variável e não retornem valores à chamada do método \n",
    "+ Modifiquem a variável mas não retornem valores à chamada do método\n",
    "+ Não modifiquem a variável mas retornem valores à chamada do método\n",
    "+ Modifiquem a variável e retornem valores à chamada do método  "
   ]
  },
  {
   "cell_type": "code",
   "execution_count": 103,
   "metadata": {},
   "outputs": [
    {
     "name": "stdout",
     "output_type": "stream",
     "text": [
      "Bom dia\n"
     ]
    }
   ],
   "source": [
    "a6='Bom dia'\n",
    "print(a6)"
   ]
  },
  {
   "cell_type": "code",
   "execution_count": 43,
   "metadata": {},
   "outputs": [],
   "source": [
    "lista6=[1,2,3]\n",
    "lista6.append(3) #Método que \"Modifiquem a variável mas não retornem valores à chamada do método\""
   ]
  },
  {
   "cell_type": "code",
   "execution_count": 74,
   "metadata": {},
   "outputs": [
    {
     "data": {
      "text/plain": [
       "1"
      ]
     },
     "execution_count": 74,
     "metadata": {},
     "output_type": "execute_result"
    }
   ],
   "source": [
    "tupla6c=[1,2,3]\n",
    "tupla6c.index(2)"
   ]
  },
  {
   "cell_type": "code",
   "execution_count": 57,
   "metadata": {},
   "outputs": [
    {
     "data": {
      "text/plain": [
       "9"
      ]
     },
     "execution_count": 57,
     "metadata": {},
     "output_type": "execute_result"
    }
   ],
   "source": [
    "lista6d=[13,18,4,6,9]\n",
    "lista6d.pop()"
   ]
  },
  {
   "cell_type": "markdown",
   "metadata": {},
   "source": [
    "7- Exemplifique o uso de métodos para:  \n",
    "+ Testar se uma string pode ser convertida para um inteiro  \n",
    "+ Testar se um conjunto é subconjunto de outro\n",
    "+ Concatenar duas listas\n",
    "+ Contar as ocorrências de um elemento em uma lista"
   ]
  },
  {
   "cell_type": "code",
   "execution_count": 76,
   "metadata": {},
   "outputs": [
    {
     "data": {
      "text/plain": [
       "True"
      ]
     },
     "execution_count": 76,
     "metadata": {},
     "output_type": "execute_result"
    }
   ],
   "source": [
    "a='22'\n",
    "a.isnumeric()"
   ]
  },
  {
   "cell_type": "code",
   "execution_count": 79,
   "metadata": {},
   "outputs": [
    {
     "data": {
      "text/plain": [
       "{1, 2, 3}"
      ]
     },
     "execution_count": 79,
     "metadata": {},
     "output_type": "execute_result"
    }
   ],
   "source": [
    "seq7t={1,2,3}\n",
    "seq7g={1,2,3}\n",
    "seq7t.intersection(seq7g)"
   ]
  },
  {
   "cell_type": "code",
   "execution_count": 82,
   "metadata": {},
   "outputs": [
    {
     "name": "stdout",
     "output_type": "stream",
     "text": [
      "[1, 2, 3, 4, 9, 8, 6, 7]\n"
     ]
    }
   ],
   "source": [
    "lista7a=[1,2,3,4]\n",
    "lista7b=[9,8,6,7]\n",
    "lista7a.extend(lista7b)\n",
    "print(lista7a)"
   ]
  },
  {
   "cell_type": "code",
   "execution_count": 60,
   "metadata": {},
   "outputs": [
    {
     "data": {
      "text/plain": [
       "2"
      ]
     },
     "execution_count": 60,
     "metadata": {},
     "output_type": "execute_result"
    }
   ],
   "source": [
    "lista7d=[6,88,6,33,99]\n",
    "lista7d.count(6)"
   ]
  },
  {
   "cell_type": "markdown",
   "metadata": {},
   "source": [
    "Deescreva, em linhas gerais, o que é uma linguagem de programação, e para que serve.  "
   ]
  },
  {
   "cell_type": "code",
   "execution_count": 35,
   "metadata": {},
   "outputs": [],
   "source": [
    "#Linguagem de programação é um conjunto de regras sintáticas e semânticas usadas para escrever funções, \n",
    "#códigos e programas e configurar computadores."
   ]
  },
  {
   "cell_type": "markdown",
   "metadata": {},
   "source": [
    "Feedback: o que você está achando do curso até agora?  "
   ]
  },
  {
   "cell_type": "markdown",
   "metadata": {},
   "source": []
  }
 ],
 "metadata": {
  "kernelspec": {
   "display_name": "Python 3",
   "language": "python",
   "name": "python3"
  },
  "language_info": {
   "codemirror_mode": {
    "name": "ipython",
    "version": 3
   },
   "file_extension": ".py",
   "mimetype": "text/x-python",
   "name": "python",
   "nbconvert_exporter": "python",
   "pygments_lexer": "ipython3",
   "version": "3.5.2"
  }
 },
 "nbformat": 4,
 "nbformat_minor": 2
}
